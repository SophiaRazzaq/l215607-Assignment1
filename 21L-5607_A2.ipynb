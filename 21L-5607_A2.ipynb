{
  "cells": [
    {
      "cell_type": "markdown",
      "source": [
        "# Introduction To Data Science – Assignment 2\n",
        "\n",
        "---\n",
        "\n",
        "#### Sections A – B – C – D\n",
        "\n",
        "---\n",
        "\n",
        "##***Instructions: Read These Carefully Before Starting!***\n",
        "\n",
        "1. Due Date: Thursday 20th October 2022 – 11:59PM\n",
        "\n",
        "2. **Name the file in the format Lyyxxxx_A2.ipynb and save it as .ipynb (e.g. L216666_A2.ipynb)**\n",
        "\n",
        "3. Submission will be taken on Google Classroom (**submit SINGLE .ipynb file ONLY**)\n",
        "\n",
        "4. **Assignment will not be evaluated if**:\n",
        "\n",
        "> * You submit python (.py) files\n",
        "> * You submit multiple .ipynb files\n",
        "> * You submit compressed (.rar or .zip) files\n",
        "\n",
        "5. **Work in the spaces provided and do not delete/modify any cells from this template.**\n",
        "\n",
        "6. Upload data files directly to Google Colab - do not use Google Drive or GitHub linking method\n",
        "\n",
        "*Not following these instructions will lead to mark deduction.*\n",
        "\n",
        "---\n",
        "\n",
        "All source files needed to complete this assignment can be found on the following [Google Drive link](https://drive.google.com/drive/folders/1qBib_6ZOhvHb73ZRLWiCMWl9NFyU1IDO?usp=sharing). Download these files and upload them to your Google Colab Notebook. \n",
        "\n",
        "**Do not link Google Drive or GitHub with Colab.**\n",
        "\n",
        "**Do not add these files with your submission on Google Classroom.**\n",
        "\n",
        "---\n",
        "\n",
        "Happy Coding 🌺\n",
        "\n",
        "---\n",
        "\n",
        "TA Emails\n",
        "\n",
        "Section A, C - Muhammad Maarij l192347@lhr.nu.edu.pk\n",
        "\n",
        "Section B, D - Hira Ijaz l192377@lhr.nu.edu.pk\n",
        "\n",
        "---"
      ],
      "metadata": {
        "id": "TWWLTwYZorzC"
      }
    },
    {
      "cell_type": "markdown",
      "source": [
        "---\n",
        "## Question 0\n",
        "\n",
        "Add all library imports here"
      ],
      "metadata": {
        "id": "mwtAOew56gkd"
      }
    },
    {
      "cell_type": "code",
      "source": [
        "import pandas as pd\n",
        "import matplotlib.pyplot as plt\n",
        "import matplotlib as mp\n",
        "import numpy as np\n",
        "from sklearn import tree\n",
        "from sklearn.model_selection import train_test_split\n",
        "from sklearn.tree import DecisionTreeRegressor\n",
        "from sklearn import linear_model\n",
        "from sklearn.preprocessing import StandardScaler\n",
        "from sklearn.linear_model import LogisticRegression\n",
        "from sklearn.metrics import confusion_matrix\n",
        "from sklearn import metrics\n",
        "from sklearn.metrics import accuracy_score\n",
        "from sklearn.metrics import recall_score\n",
        "from sklearn.metrics import precision_score\n",
        "from sklearn.metrics import f1_score"
      ],
      "metadata": {
        "id": "swlE8Tvq6g2u"
      },
      "execution_count": 28,
      "outputs": []
    },
    {
      "cell_type": "markdown",
      "metadata": {
        "id": "ZR8C9ctqsy3V"
      },
      "source": [
        "---\n",
        "## Question 1\n",
        "\n",
        "####Single Linear Regression with Gradient Descent\n",
        "\n",
        "> Take help from slides 26 and 30\n",
        "---"
      ]
    },
    {
      "cell_type": "markdown",
      "metadata": {
        "id": "DzGOilP7sy3Y"
      },
      "source": [
        "**Part A -**\n",
        "Write a function that calculates and returns value for hypothesis $h_\\theta(x)$"
      ]
    },
    {
      "cell_type": "code",
      "execution_count": 2,
      "metadata": {
        "collapsed": true,
        "id": "3bczSIhosy3Z"
      },
      "outputs": [],
      "source": [
        "# complete this function implementation\n",
        "def hypothesis(x, theta):\n",
        "    return theta[0] + theta[1]*x"
      ]
    },
    {
      "cell_type": "markdown",
      "metadata": {
        "id": "dXORHsxSsy3a"
      },
      "source": [
        "**Part B -**\n",
        "Write a function that calculates and returns value for loss/cost $J(\\theta_0, \\theta_1)$"
      ]
    },
    {
      "cell_type": "code",
      "execution_count": 4,
      "metadata": {
        "collapsed": true,
        "id": "__DPftoLsy3c"
      },
      "outputs": [],
      "source": [
        "# complete this function implementation\n",
        "def loss(x, y):\n",
        "    m = len(y)\n",
        "    sum = 0\n",
        "    for i in range(m):\n",
        "        sum += (x[i] - y[i])**2\n",
        "        k=sum / (2*m)\n",
        "    return k"
      ]
    },
    {
      "cell_type": "markdown",
      "metadata": {
        "id": "WjWa6pMGsy3d"
      },
      "source": [
        "**Part C-**\n",
        "Write a function that applies the gradient descent algorithm and updates values of $\\theta_0$ and $\\theta_1$ until they converge.\n",
        "\n",
        "* take default vaue of $α$ to be 0.015\n",
        "* take default number of iterations to be 15000\n",
        "* print loss after every 500 iterations"
      ]
    },
    {
      "cell_type": "code",
      "execution_count": 5,
      "metadata": {
        "collapsed": true,
        "id": "U7qtzuCWsy3e"
      },
      "outputs": [],
      "source": [
        "# complete this function implementation\n",
        "def gradientDescent(x, y, theta, numIterations= 15000, alpha= 0.015):\n",
        "    n = 500\n",
        "    t0 = 0\n",
        "    t1 = 0\n",
        "    m = len(x)\n",
        "    cost = []\n",
        "    for i in range(m):\n",
        "        t0 += hypothesis(x[i], theta) - y[i]\n",
        "        t1 += (hypothesis(x[i], theta) - y[i])*x[i]\n",
        "    for j in range(numIterations):\n",
        "        theta[0] -= alpha*(1/m)*t0\n",
        "        theta[1] -= alpha*(1/m)*t1\n",
        "    for k in range(m):\n",
        "        if (k % n == 0):\n",
        "            cost.append(loss(hypothesis(x[k], theta), y[k]))\n",
        "            print(cost)\n",
        "    return theta, cost"
      ]
    },
    {
      "cell_type": "markdown",
      "metadata": {
        "id": "0zwvS5cqsy3g"
      },
      "source": [
        "**Part D -**\n",
        "FactoryRevenue.csv contains information about the number of workers in a factory and the annual profit for that factory. Import the file FactoryRevenue.csv as a Pandas DataSet and print out the information for it."
      ]
    },
    {
      "cell_type": "code",
      "execution_count": 6,
      "metadata": {
        "collapsed": true,
        "id": "Uef-aGHisy3h",
        "colab": {
          "base_uri": "https://localhost:8080/"
        },
        "outputId": "5964c656-59f5-4b13-9b66-f23cc0cf33b5"
      },
      "outputs": [
        {
          "output_type": "stream",
          "name": "stdout",
          "text": [
            "<class 'pandas.core.frame.DataFrame'>\n",
            "RangeIndex: 99 entries, 0 to 98\n",
            "Data columns (total 2 columns):\n",
            " #   Column               Non-Null Count  Dtype  \n",
            "---  ------               --------------  -----  \n",
            " 0   TotalFactoryWorkers  98 non-null     float64\n",
            " 1   AnnualProfit         98 non-null     float64\n",
            "dtypes: float64(2)\n",
            "memory usage: 1.7 KB\n"
          ]
        }
      ],
      "source": [
        "import pandas as pd\n",
        "df = pd.read_csv(\"FactoryRevenue.csv\")\n",
        "df.info()"
      ]
    },
    {
      "cell_type": "markdown",
      "metadata": {
        "id": "yv9_dDiw65o8"
      },
      "source": [
        "**Part E -**\n",
        "Remove rows that have any null values"
      ]
    },
    {
      "cell_type": "code",
      "source": [
        "print(\"Number of Rows Before: \",df.shape[0])\n",
        "print(\"Number of rows containing null data:\",df.isnull().sum().sum())\n",
        "df.dropna(inplace=True)\n",
        "print(\"Number of rows containing null data after removal:\",df.isnull().sum().sum())\n",
        "print(\"Number of Rows After: \",df.shape[0])"
      ],
      "metadata": {
        "id": "l50u9HZx7H5t",
        "colab": {
          "base_uri": "https://localhost:8080/"
        },
        "outputId": "fef51cfb-32bd-4862-d419-8c2747b729c8"
      },
      "execution_count": 7,
      "outputs": [
        {
          "output_type": "stream",
          "name": "stdout",
          "text": [
            "Number of Rows Before:  99\n",
            "Number of rows containing null data: 2\n",
            "Number of rows containing null data after removal: 0\n",
            "Number of Rows After:  97\n"
          ]
        }
      ]
    },
    {
      "cell_type": "markdown",
      "metadata": {
        "id": "u0Y68nh87HJX"
      },
      "source": [
        "**Part F -**\n",
        "\n",
        "First identify the independant and dependant variables. \n",
        "\n",
        "Then create two arrays named x and y and add independant variable data to array x, dependant variable data to array y."
      ]
    },
    {
      "cell_type": "code",
      "source": [
        "# independant variable:\n",
        "#factory workers  \n",
        "x=[]\n",
        "#dependent variables:\n",
        "#Annual profit\n",
        "y=[]\n",
        "x = np.array(df[[\"TotalFactoryWorkers\"]])\n",
        "y = np.array(df[[\"AnnualProfit\"]])\n",
        "#x,y = df[\"TotalFactoryWorkers\"].values.reshape(1,-1) ,df[\"AnnualProfit\"].values.reshape(1,-1)\n",
        "print(\"THE INDEPENDENT VARIABLES DATA\\n\")\n",
        "print(x)\n",
        "\n",
        "print(\"THE DEPENDENT VARIABLES DATA\\n\")\n",
        "print(y)\n",
        "\n",
        "result=np.add(x,y)\n",
        "print(\"\\nADDED ARRAY\")\n",
        "print(result)\n"
      ],
      "metadata": {
        "id": "m49bbkSy7xxp",
        "colab": {
          "base_uri": "https://localhost:8080/"
        },
        "outputId": "0f2d40dc-26c0-469d-f22c-5255c51c4226"
      },
      "execution_count": 8,
      "outputs": [
        {
          "output_type": "stream",
          "name": "stdout",
          "text": [
            "THE INDEPENDENT VARIABLES DATA\n",
            "\n",
            "[[ 65894.]\n",
            " [ 92482.]\n",
            " [ 58918.]\n",
            " [ 82111.]\n",
            " [ 79334.]\n",
            " [ 80959.]\n",
            " [ 56063.]\n",
            " [128360.]\n",
            " [ 63534.]\n",
            " [ 63328.]\n",
            " [ 63589.]\n",
            " [ 62742.]\n",
            " [ 56397.]\n",
            " [ 93102.]\n",
            " [ 94536.]\n",
            " [ 88254.]\n",
            " [ 51793.]\n",
            " [212790.]\n",
            " [149080.]\n",
            " [189590.]\n",
            " [ 72182.]\n",
            " [ 82951.]\n",
            " [102360.]\n",
            " [ 54994.]\n",
            " [203410.]\n",
            " [101360.]\n",
            " [ 61101.]\n",
            " [ 55277.]\n",
            " [ 85186.]\n",
            " [ 70032.]\n",
            " [ 58598.]\n",
            " [ 83829.]\n",
            " [ 74764.]\n",
            " [ 85781.]\n",
            " [ 64862.]\n",
            " [ 50546.]\n",
            " [ 57107.]\n",
            " [141640.]\n",
            " [ 57340.]\n",
            " [ 84084.]\n",
            " [ 56407.]\n",
            " [ 53794.]\n",
            " [ 63654.]\n",
            " [ 51301.]\n",
            " [ 64296.]\n",
            " [ 70708.]\n",
            " [ 61891.]\n",
            " [202700.]\n",
            " [ 54901.]\n",
            " [ 63261.]\n",
            " [ 55649.]\n",
            " [189450.]\n",
            " [128280.]\n",
            " [109570.]\n",
            " [131760.]\n",
            " [222030.]\n",
            " [ 52524.]\n",
            " [ 91802.]\n",
            " [ 60020.]\n",
            " [ 55204.]\n",
            " [ 50594.]\n",
            " [ 57077.]\n",
            " [ 76366.]\n",
            " [ 58707.]\n",
            " [ 53054.]\n",
            " [ 82934.]\n",
            " [133940.]\n",
            " [ 54369.]\n",
            " [ 73345.]\n",
            " [ 60062.]\n",
            " [ 72259.]\n",
            " [ 50269.]\n",
            " [ 65479.]\n",
            " [ 75386.]\n",
            " [ 50365.]\n",
            " [102740.]\n",
            " [ 51077.]\n",
            " [ 57292.]\n",
            " [ 51884.]\n",
            " [ 63557.]\n",
            " [ 97687.]\n",
            " [ 65159.]\n",
            " [ 85172.]\n",
            " [ 54069.]\n",
            " [ 68825.]\n",
            " [117080.]\n",
            " [ 57737.]\n",
            " [ 78247.]\n",
            " [ 70931.]\n",
            " [ 50702.]\n",
            " [ 58014.]\n",
            " [117000.]\n",
            " [ 55416.]\n",
            " [ 75402.]\n",
            " [ 53077.]\n",
            " [ 74239.]\n",
            " [ 76031.]]\n",
            "THE DEPENDENT VARIABLES DATA\n",
            "\n",
            "[[ 59966. ]\n",
            " [121340. ]\n",
            " [ 18495. ]\n",
            " [ 65426. ]\n",
            " [ 45623. ]\n",
            " [ 41164. ]\n",
            " [ 33928. ]\n",
            " [101170. ]\n",
            " [ 54974. ]\n",
            " [ 14233. ]\n",
            " [-14211. ]\n",
            " [ 24756. ]\n",
            " [ 46042. ]\n",
            " [ 39624. ]\n",
            " [ 54141. ]\n",
            " [ 51694. ]\n",
            " [ -7427.9]\n",
            " [179290. ]\n",
            " [120540. ]\n",
            " [170540. ]\n",
            " [ 48852. ]\n",
            " [ 57442. ]\n",
            " [ 77754. ]\n",
            " [ 10173. ]\n",
            " [209920. ]\n",
            " [ 66799. ]\n",
            " [175920. ]\n",
            " [ 91302. ]\n",
            " [136620. ]\n",
            " [118540. ]\n",
            " [ 68233. ]\n",
            " [118860. ]\n",
            " [ 43483. ]\n",
            " [120000. ]\n",
            " [ 65987. ]\n",
            " [ 38166. ]\n",
            " [ 32522. ]\n",
            " [155050. ]\n",
            " [ 31551. ]\n",
            " [ 72258. ]\n",
            " [  7161.8]\n",
            " [ 35129. ]\n",
            " [ 53048. ]\n",
            " [  5607.7]\n",
            " [ 36518. ]\n",
            " [ 53893. ]\n",
            " [ 31386. ]\n",
            " [217670. ]\n",
            " [ 42630. ]\n",
            " [ 51875. ]\n",
            " [ 30825. ]\n",
            " [226380. ]\n",
            " [135010. ]\n",
            " [ 70467. ]\n",
            " [146920. ]\n",
            " [241470. ]\n",
            " [-12200. ]\n",
            " [ 67981. ]\n",
            " [  9269.5]\n",
            " [  1520. ]\n",
            " [ 28214. ]\n",
            " [ 18451. ]\n",
            " [ 42959. ]\n",
            " [ 72029. ]\n",
            " [ 19869. ]\n",
            " [  1445.4]\n",
            " [ 90551. ]\n",
            " [  6170.5]\n",
            " [ 40259. ]\n",
            " [ 12784. ]\n",
            " [ 33411. ]\n",
            " [-26807. ]\n",
            " [  2967.8]\n",
            " [ 38845. ]\n",
            " [ 57014. ]\n",
            " [ 67526. ]\n",
            " [ 20576. ]\n",
            " [  4795.3]\n",
            " [  2042.1]\n",
            " [  6786.1]\n",
            " [ 75435. ]\n",
            " [ 53436. ]\n",
            " [ 42415. ]\n",
            " [  5565.7]\n",
            " [ 39115. ]\n",
            " [ 53854. ]\n",
            " [ 24406. ]\n",
            " [ 67318. ]\n",
            " [ 10463. ]\n",
            " [ 51337. ]\n",
            " [ 18440. ]\n",
            " [ 80043. ]\n",
            " [ 10179. ]\n",
            " [ 67504. ]\n",
            " [ 18396. ]\n",
            " [ 42885. ]\n",
            " [ 49981. ]]\n",
            "\n",
            "ADDED ARRAY\n",
            "[[125860. ]\n",
            " [213822. ]\n",
            " [ 77413. ]\n",
            " [147537. ]\n",
            " [124957. ]\n",
            " [122123. ]\n",
            " [ 89991. ]\n",
            " [229530. ]\n",
            " [118508. ]\n",
            " [ 77561. ]\n",
            " [ 49378. ]\n",
            " [ 87498. ]\n",
            " [102439. ]\n",
            " [132726. ]\n",
            " [148677. ]\n",
            " [139948. ]\n",
            " [ 44365.1]\n",
            " [392080. ]\n",
            " [269620. ]\n",
            " [360130. ]\n",
            " [121034. ]\n",
            " [140393. ]\n",
            " [180114. ]\n",
            " [ 65167. ]\n",
            " [413330. ]\n",
            " [168159. ]\n",
            " [237021. ]\n",
            " [146579. ]\n",
            " [221806. ]\n",
            " [188572. ]\n",
            " [126831. ]\n",
            " [202689. ]\n",
            " [118247. ]\n",
            " [205781. ]\n",
            " [130849. ]\n",
            " [ 88712. ]\n",
            " [ 89629. ]\n",
            " [296690. ]\n",
            " [ 88891. ]\n",
            " [156342. ]\n",
            " [ 63568.8]\n",
            " [ 88923. ]\n",
            " [116702. ]\n",
            " [ 56908.7]\n",
            " [100814. ]\n",
            " [124601. ]\n",
            " [ 93277. ]\n",
            " [420370. ]\n",
            " [ 97531. ]\n",
            " [115136. ]\n",
            " [ 86474. ]\n",
            " [415830. ]\n",
            " [263290. ]\n",
            " [180037. ]\n",
            " [278680. ]\n",
            " [463500. ]\n",
            " [ 40324. ]\n",
            " [159783. ]\n",
            " [ 69289.5]\n",
            " [ 56724. ]\n",
            " [ 78808. ]\n",
            " [ 75528. ]\n",
            " [119325. ]\n",
            " [130736. ]\n",
            " [ 72923. ]\n",
            " [ 84379.4]\n",
            " [224491. ]\n",
            " [ 60539.5]\n",
            " [113604. ]\n",
            " [ 72846. ]\n",
            " [105670. ]\n",
            " [ 23462. ]\n",
            " [ 68446.8]\n",
            " [114231. ]\n",
            " [107379. ]\n",
            " [170266. ]\n",
            " [ 71653. ]\n",
            " [ 62087.3]\n",
            " [ 53926.1]\n",
            " [ 70343.1]\n",
            " [173122. ]\n",
            " [118595. ]\n",
            " [127587. ]\n",
            " [ 59634.7]\n",
            " [107940. ]\n",
            " [170934. ]\n",
            " [ 82143. ]\n",
            " [145565. ]\n",
            " [ 81394. ]\n",
            " [102039. ]\n",
            " [ 76454. ]\n",
            " [197043. ]\n",
            " [ 65595. ]\n",
            " [142906. ]\n",
            " [ 71473. ]\n",
            " [117124. ]\n",
            " [126012. ]]\n"
          ]
        }
      ]
    },
    {
      "cell_type": "markdown",
      "metadata": {
        "id": "8vRXmn9z8H4q"
      },
      "source": [
        "**Part G -** \n",
        "\n",
        "Create an array called 'theta' that will hold $θ_0$ and $θ_1$. Initalize both values to 0.\n",
        "\n",
        "Then call the gradientDescent function using array x, array y, and array theta. Do not provide any other input parameters.\n",
        "\n",
        "Print out the values of y-intercept and slope/gradient"
      ]
    },
    {
      "cell_type": "code",
      "source": [
        "theta=[0,0]\n",
        "gradientDescent(x,y,theta)\n",
        "print(\"Slope/Gradient:\", theta[0])\n",
        "print(\"Intercept:\", theta[1])"
      ],
      "metadata": {
        "id": "e7nBeh3b9KXK",
        "colab": {
          "base_uri": "https://localhost:8080/"
        },
        "outputId": "f100ce04-e66d-48e9-877a-32479f33a6ec"
      },
      "execution_count": 9,
      "outputs": [
        {
          "output_type": "stream",
          "name": "stdout",
          "text": [
            "[4.6906908086063036e+33]\n",
            "Slope/Gradient: [13138053.86597511]\n",
            "Intercept: [1.46989912e+12]\n"
          ]
        }
      ]
    },
    {
      "cell_type": "markdown",
      "metadata": {
        "id": "lksKYteB9NOx"
      },
      "source": [
        "**Part H -** Plot a scatter plot and regression line on the same graph"
      ]
    },
    {
      "cell_type": "code",
      "source": [
        "slope=theta[0]\n",
        "intercept=theta[1]\n",
        "print(slope)\n",
        "yp=slope*x+intercept\n",
        "plt.scatter(x, y, color=\"purple\",marker = \"x\")\n",
        "plt.plot(x, yp, color=\"pink\")\n",
        "plt.xlabel(\"TotalFactoryWorkers\")\n",
        "plt.ylabel(\"AnnualProfit\")\n",
        "plt.title(\"  Linear Regression - Scatter Plot with Best Fit Line\")\n",
        "plt.show()"
      ],
      "metadata": {
        "id": "Jdah8R6L9XSl",
        "colab": {
          "base_uri": "https://localhost:8080/",
          "height": 312
        },
        "outputId": "3a1198eb-ccf8-4870-8a01-da0bf67c86cf"
      },
      "execution_count": 10,
      "outputs": [
        {
          "output_type": "stream",
          "name": "stdout",
          "text": [
            "[13138053.86597511]\n"
          ]
        },
        {
          "output_type": "display_data",
          "data": {
            "text/plain": [
              "<Figure size 432x288 with 1 Axes>"
            ],
            "image/png": "[encoded data removed]"
          },
          "metadata": {
            "needs_background": "light"
          }
        }
      ]
    },
    {
      "cell_type": "markdown",
      "source": [
        "---\n",
        "## Question 2\n",
        "\n",
        "Logistic Regression on Flowers Dataset\n",
        "\n",
        "---\n",
        "\n"
      ],
      "metadata": {
        "id": "upsln2T-38-M"
      }
    },
    {
      "cell_type": "markdown",
      "source": [
        "**Part A** - Load the file FlowersData.csv and describe the dataset"
      ],
      "metadata": {
        "id": "plh_l8AV4MU5"
      }
    },
    {
      "cell_type": "code",
      "source": [
        "import pandas as pd\n",
        "df = pd.read_csv(\"FlowersData.csv\")\n",
        "df.describe()"
      ],
      "metadata": {
        "id": "p7Cgq8di3771",
        "colab": {
          "base_uri": "https://localhost:8080/",
          "height": 300
        },
        "outputId": "764bcbcf-3794-4211-ccc5-6282deadc9c5"
      },
      "execution_count": 11,
      "outputs": [
        {
          "output_type": "execute_result",
          "data": {
            "text/plain": [
              "       sepal_length  sepal_width  petal_length  petal_width\n",
              "count    150.000000   150.000000    150.000000   150.000000\n",
              "mean       5.843333     3.054000      3.758667     1.198667\n",
              "std        0.828066     0.433594      1.764420     0.763161\n",
              "min        4.300000     2.000000      1.000000     0.100000\n",
              "25%        5.100000     2.800000      1.600000     0.300000\n",
              "50%        5.800000     3.000000      4.350000     1.300000\n",
              "75%        6.400000     3.300000      5.100000     1.800000\n",
              "max        7.900000     4.400000      6.900000     2.500000"
            ],
            "text/html": [
              "\n",
              "  <div id=\"df-688842fb-6a44-4530-b817-1b6bdf7e31c7\">\n",
              "    <div class=\"colab-df-container\">\n",
              "      <div>\n",
              "<style scoped>\n",
              "    .dataframe tbody tr th:only-of-type {\n",
              "        vertical-align: middle;\n",
              "    }\n",
              "\n",
              "    .dataframe tbody tr th {\n",
              "        vertical-align: top;\n",
              "    }\n",
              "\n",
              "    .dataframe thead th {\n",
              "        text-align: right;\n",
              "    }\n",
              "</style>\n",
              "<table border=\"1\" class=\"dataframe\">\n",
              "  <thead>\n",
              "    <tr style=\"text-align: right;\">\n",
              "      <th></th>\n",
              "      <th>sepal_length</th>\n",
              "      <th>sepal_width</th>\n",
              "      <th>petal_length</th>\n",
              "      <th>petal_width</th>\n",
              "    </tr>\n",
              "  </thead>\n",
              "  <tbody>\n",
              "    <tr>\n",
              "      <th>count</th>\n",
              "      <td>150.000000</td>\n",
              "      <td>150.000000</td>\n",
              "      <td>150.000000</td>\n",
              "      <td>150.000000</td>\n",
              "    </tr>\n",
              "    <tr>\n",
              "      <th>mean</th>\n",
              "      <td>5.843333</td>\n",
              "      <td>3.054000</td>\n",
              "      <td>3.758667</td>\n",
              "      <td>1.198667</td>\n",
              "    </tr>\n",
              "    <tr>\n",
              "      <th>std</th>\n",
              "      <td>0.828066</td>\n",
              "      <td>0.433594</td>\n",
              "      <td>1.764420</td>\n",
              "      <td>0.763161</td>\n",
              "    </tr>\n",
              "    <tr>\n",
              "      <th>min</th>\n",
              "      <td>4.300000</td>\n",
              "      <td>2.000000</td>\n",
              "      <td>1.000000</td>\n",
              "      <td>0.100000</td>\n",
              "    </tr>\n",
              "    <tr>\n",
              "      <th>25%</th>\n",
              "      <td>5.100000</td>\n",
              "      <td>2.800000</td>\n",
              "      <td>1.600000</td>\n",
              "      <td>0.300000</td>\n",
              "    </tr>\n",
              "    <tr>\n",
              "      <th>50%</th>\n",
              "      <td>5.800000</td>\n",
              "      <td>3.000000</td>\n",
              "      <td>4.350000</td>\n",
              "      <td>1.300000</td>\n",
              "    </tr>\n",
              "    <tr>\n",
              "      <th>75%</th>\n",
              "      <td>6.400000</td>\n",
              "      <td>3.300000</td>\n",
              "      <td>5.100000</td>\n",
              "      <td>1.800000</td>\n",
              "    </tr>\n",
              "    <tr>\n",
              "      <th>max</th>\n",
              "      <td>7.900000</td>\n",
              "      <td>4.400000</td>\n",
              "      <td>6.900000</td>\n",
              "      <td>2.500000</td>\n",
              "    </tr>\n",
              "  </tbody>\n",
              "</table>\n",
              "</div>\n",
              "      <button class=\"colab-df-convert\" onclick=\"convertToInteractive('df-688842fb-6a44-4530-b817-1b6bdf7e31c7')\"\n",
              "              title=\"Convert this dataframe to an interactive table.\"\n",
              "              style=\"display:none;\">\n",
              "        \n",
              "  <svg xmlns=\"http://www.w3.org/2000/svg\" height=\"24px\"viewBox=\"0 0 24 24\"\n",
              "       width=\"24px\">\n",
              "    <path d=\"M0 0h24v24H0V0z\" fill=\"none\"/>\n",
              "    <path d=\"M18.56 5.44l.94 2.06.94-2.06 2.06-.94-2.06-.94-.94-2.06-.94 2.06-2.06.94zm-11 1L8.5 8.5l.94-2.06 2.06-.94-2.06-.94L8.5 2.5l-.94 2.06-2.06.94zm10 10l.94 2.06.94-2.06 2.06-.94-2.06-.94-.94-2.06-.94 2.06-2.06.94z\"/><path d=\"M17.41 7.96l-1.37-1.37c-.4-.4-.92-.59-1.43-.59-.52 0-1.04.2-1.43.59L10.3 9.45l-7.72 7.72c-.78.78-.78 2.05 0 2.83L4 21.41c.39.39.9.59 1.41.59.51 0 1.02-.2 1.41-.59l7.78-7.78 2.81-2.81c.8-.78.8-2.07 0-2.86zM5.41 20L4 18.59l7.72-7.72 1.47 1.35L5.41 20z\"/>\n",
              "  </svg>\n",
              "      </button>\n",
              "      \n",
              "  <style>\n",
              "    .colab-df-container {\n",
              "      display:flex;\n",
              "      flex-wrap:wrap;\n",
              "      gap: 12px;\n",
              "    }\n",
              "\n",
              "    .colab-df-convert {\n",
              "      background-color: #E8F0FE;\n",
              "      border: none;\n",
              "      border-radius: 50%;\n",
              "      cursor: pointer;\n",
              "      display: none;\n",
              "      fill: #1967D2;\n",
              "      height: 32px;\n",
              "      padding: 0 0 0 0;\n",
              "      width: 32px;\n",
              "    }\n",
              "\n",
              "    .colab-df-convert:hover {\n",
              "      background-color: #E2EBFA;\n",
              "      box-shadow: 0px 1px 2px rgba(60, 64, 67, 0.3), 0px 1px 3px 1px rgba(60, 64, 67, 0.15);\n",
              "      fill: #174EA6;\n",
              "    }\n",
              "\n",
              "    [theme=dark] .colab-df-convert {\n",
              "      background-color: #3B4455;\n",
              "      fill: #D2E3FC;\n",
              "    }\n",
              "\n",
              "    [theme=dark] .colab-df-convert:hover {\n",
              "      background-color: #434B5C;\n",
              "      box-shadow: 0px 1px 3px 1px rgba(0, 0, 0, 0.15);\n",
              "      filter: drop-shadow(0px 1px 2px rgba(0, 0, 0, 0.3));\n",
              "      fill: #FFFFFF;\n",
              "    }\n",
              "  </style>\n",
              "\n",
              "      <script>\n",
              "        const buttonEl =\n",
              "          document.querySelector('#df-688842fb-6a44-4530-b817-1b6bdf7e31c7 button.colab-df-convert');\n",
              "        buttonEl.style.display =\n",
              "          google.colab.kernel.accessAllowed ? 'block' : 'none';\n",
              "\n",
              "        async function convertToInteractive(key) {\n",
              "          const element = document.querySelector('#df-688842fb-6a44-4530-b817-1b6bdf7e31c7');\n",
              "          const dataTable =\n",
              "            await google.colab.kernel.invokeFunction('convertToInteractive',\n",
              "                                                     [key], {});\n",
              "          if (!dataTable) return;\n",
              "\n",
              "          const docLinkHtml = 'Like what you see? Visit the ' +\n",
              "            '<a target=\"_blank\" href=https://colab.research.google.com/notebooks/data_table.ipynb>data table notebook</a>'\n",
              "            + ' to learn more about interactive tables.';\n",
              "          element.innerHTML = '';\n",
              "          dataTable['output_type'] = 'display_data';\n",
              "          await google.colab.output.renderOutput(dataTable, element);\n",
              "          const docLink = document.createElement('div');\n",
              "          docLink.innerHTML = docLinkHtml;\n",
              "          element.appendChild(docLink);\n",
              "        }\n",
              "      </script>\n",
              "    </div>\n",
              "  </div>\n",
              "  "
            ]
          },
          "metadata": {},
          "execution_count": 11
        }
      ]
    },
    {
      "cell_type": "markdown",
      "source": [
        "**Part B** - Split data into training and test data using SKLearn train_test_split. Specify parameter test_size to be 25%\n",
        "\n",
        "Hint: You will be needing 4 arrays: X_train, X_test, y_train, y_test"
      ],
      "metadata": {
        "id": "7LsiIV9n4QMz"
      }
    },
    {
      "cell_type": "code",
      "source": [
        "x = df.replace({'flower_name':{'hibiscus':1,'daffodil':2,'lily':3}})\n",
        "#y=df[['sepal_length','sepal_width','petal_length','petal_width']].values\n",
        "#y = y.reshape(-1, 1)\n",
        "inputs = ['sepal_length', 'sepal_width', 'petal_length', 'petal_width']\n",
        "X= df[inputs]\n",
        "y=df.flower_name\n",
        "\n",
        "X_train=[]\n",
        "X_test=[]\n",
        "y_train=[]\n",
        "y_test=[]\n",
        " \n",
        "X_train, X_test, y_train, y_test=train_test_split(X,y,test_size=0.25)  #25%\n",
        "\n",
        "#print(y_train)\n",
        "#print(X_train)"
      ],
      "metadata": {
        "id": "f49YQ4GT4k5s"
      },
      "execution_count": 12,
      "outputs": []
    },
    {
      "cell_type": "markdown",
      "source": [
        "**Part C** - Perform scaling on the X_test and X_train values using StandardScacler from SKLearn Library"
      ],
      "metadata": {
        "id": "Ez5Fa2ePDzXu"
      }
    },
    {
      "cell_type": "code",
      "source": [
        "from sklearn.preprocessing import StandardScaler\n",
        "ss = StandardScaler()\n",
        "X_train_st = ss.fit_transform(X_train)\n",
        "X_test_st = ss.transform(X_test)\n",
        "print(X_train_st)"
      ],
      "metadata": {
        "id": "97-2bUgtDzXv",
        "colab": {
          "base_uri": "https://localhost:8080/"
        },
        "outputId": "374fa2cc-789e-47a8-8772-5376bd7f690a"
      },
      "execution_count": 13,
      "outputs": [
        {
          "output_type": "stream",
          "name": "stdout",
          "text": [
            "[[ 0.20880576 -0.14810074  0.57469796  0.75661927]\n",
            " [ 1.52129914 -0.14810074  1.08734888  0.48929638]\n",
            " [ 0.08948818 -0.37225322  0.3468531   0.35563493]\n",
            " [-1.10368761  0.52435668 -1.41894452 -1.38196391]\n",
            " [-0.74573487  1.42096659 -1.36198331 -1.38196391]\n",
            " [ 0.44744092 -0.82055817  0.57469796  0.75661927]\n",
            " [-0.98437003  0.74850916 -1.36198331 -1.38196391]\n",
            " [-0.50709971  0.97266163 -1.47590573 -1.38196391]\n",
            " [-1.81959309  0.30020421 -1.47590573 -1.38196391]\n",
            " [ 2.11788704 -1.04471064  1.71392223  1.42492652]\n",
            " [ 0.20880576 -0.14810074  0.40381432  0.22197348]\n",
            " [ 1.40198156 -0.14810074  1.1443101   1.15760362]\n",
            " [ 0.5667585   0.30020421  0.3468531   0.35563493]\n",
            " [ 0.92471124  0.52435668  1.03038767  1.69224942]\n",
            " [-1.10368761  0.30020421 -1.53286695 -1.38196391]\n",
            " [-0.14914697 -1.04471064  0.06204704 -0.04534942]\n",
            " [ 0.5667585  -0.59640569  0.97342646  1.29126507]\n",
            " [-1.34232277  0.74850916 -1.13413845 -1.38196391]\n",
            " [-0.14914697 -0.82055817  0.68862039  0.89028072]\n",
            " [-1.10368761  1.19681411 -1.41894452 -1.38196391]\n",
            " [-1.58095793  0.30020421 -1.41894452 -1.38196391]\n",
            " [-1.58095793  1.19681411 -1.64678937 -1.38196391]\n",
            " [ 0.32812334 -1.94132055  0.3468531   0.35563493]\n",
            " [ 0.44744092 -0.37225322  0.97342646  0.75661927]\n",
            " [-0.62641729 -0.14810074  0.3468531   0.35563493]\n",
            " [ 0.92471124 -0.14810074  0.63165917  0.62295783]\n",
            " [ 0.68607608 -0.59640569  0.40381432  0.35563493]\n",
            " [-0.86505245  2.31757649 -1.36198331 -1.51562536]\n",
            " [ 0.5667585  -0.59640569  0.97342646  1.15760362]\n",
            " [-0.38778213 -0.82055817  0.17596946  0.08831203]\n",
            " [ 0.5667585  -0.37225322  0.23293068  0.08831203]\n",
            " [-0.38778213 -0.37225322 -0.16579782  0.08831203]\n",
            " [ 1.04402882  0.30020421  1.1443101   1.42492652]\n",
            " [-0.50709971 -1.4930156  -0.05187539 -0.17901087]\n",
            " [ 0.44744092 -1.26886312  0.57469796  0.35563493]\n",
            " [-0.62641729  1.86927154 -1.24806088 -1.11464101]\n",
            " [-1.10368761  0.74850916 -1.36198331 -1.38196391]\n",
            " [-0.50709971 -1.71716807  0.06204704  0.08831203]\n",
            " [-0.50709971 -1.04471064  0.28989189 -0.04534942]\n",
            " [ 0.08948818 -0.82055817  0.68862039  0.48929638]\n",
            " [-1.58095793  0.07605173 -1.36198331 -1.38196391]\n",
            " [-1.10368761 -2.3896255  -0.22275903 -0.31267232]\n",
            " [ 0.5667585   0.30020421  0.80254281  1.42492652]\n",
            " [ 1.7599343  -0.59640569  1.25823252  0.89028072]\n",
            " [ 0.68607608 -0.14810074  1.08734888  1.29126507]\n",
            " [-0.26846455 -0.37225322  0.17596946  0.08831203]\n",
            " [-0.98437003  1.64511906 -1.30502209 -1.38196391]\n",
            " [-1.81959309 -0.14810074 -1.47590573 -1.38196391]\n",
            " [-0.26846455  2.99003391 -1.36198331 -1.11464101]\n",
            " [ 1.99856946 -0.14810074  1.54303859  1.15760362]\n",
            " [ 1.04402882 -0.59640569  0.51773675  0.22197348]\n",
            " [-1.34232277  0.74850916 -1.30502209 -1.38196391]\n",
            " [-0.14914697  2.09342401 -1.53286695 -1.38196391]\n",
            " [ 1.1633464   0.07605173  0.85950403  1.15760362]\n",
            " [-0.14914697 -0.82055817  0.11900825 -0.31267232]\n",
            " [-0.98437003 -1.26886312 -0.5075651  -0.17901087]\n",
            " [-1.10368761  0.74850916 -1.30502209 -1.11464101]\n",
            " [ 0.44744092  0.52435668  1.20127131  1.69224942]\n",
            " [-0.38778213 -0.14810074  0.3468531   0.35563493]\n",
            " [-1.81959309 -0.37225322 -1.41894452 -1.38196391]\n",
            " [ 2.11788704 -0.59640569  1.59999981  1.02394217]\n",
            " [-0.98437003  1.64511906 -1.36198331 -1.24830246]\n",
            " [ 0.92471124  0.07605173  0.46077553  0.35563493]\n",
            " [-1.22300519  0.07605173 -1.36198331 -1.51562536]\n",
            " [ 0.08948818 -1.94132055  0.06204704 -0.31267232]\n",
            " [-0.38778213 -1.26886312  0.00508582 -0.17901087]\n",
            " [ 1.1633464   0.30020421  1.03038767  1.42492652]\n",
            " [-0.98437003  0.97266163 -1.41894452 -1.38196391]\n",
            " [-0.50709971  2.54172896 -1.41894452 -1.38196391]\n",
            " [-0.26846455  1.64511906 -1.24806088 -1.24830246]\n",
            " [-0.62641729  0.74850916 -1.24806088 -1.38196391]\n",
            " [ 0.68607608 -0.14810074  0.91646524  0.75661927]\n",
            " [-1.34232277 -0.14810074 -1.41894452 -1.24830246]\n",
            " [ 1.28266398  0.30020421  0.46077553  0.22197348]\n",
            " [ 2.11788704  1.64511906  1.59999981  1.29126507]\n",
            " [-1.22300519 -1.26886312  0.3468531   0.62295783]\n",
            " [-0.62641729  1.42096659 -1.36198331 -1.38196391]\n",
            " [ 0.68607608 -0.14810074  0.7455816   1.02394217]\n",
            " [ 0.92471124 -1.26886312  1.08734888  0.75661927]\n",
            " [ 1.04402882 -0.14810074  0.91646524  1.15760362]\n",
            " [-0.26846455 -1.04471064 -0.22275903 -0.31267232]\n",
            " [ 0.68607608  0.30020421  0.68862039  1.02394217]\n",
            " [-0.50709971 -1.26886312  0.06204704  0.08831203]\n",
            " [ 1.52129914  0.30020421  1.20127131  0.75661927]\n",
            " [ 0.44744092  0.74850916  0.97342646  1.55858797]\n",
            " [ 0.08948818  0.74850916  0.3468531   0.48929638]\n",
            " [-0.26846455 -0.59640569  0.3468531   0.08831203]\n",
            " [ 0.32812334 -0.37225322  0.23293068  0.08831203]\n",
            " [ 0.44744092 -0.59640569  0.68862039  0.35563493]\n",
            " [ 2.11788704 -0.14810074  1.25823252  1.42492652]\n",
            " [ 0.92471124  0.07605173  0.28989189  0.22197348]\n",
            " [ 1.1633464   0.07605173  0.57469796  0.35563493]\n",
            " [-1.22300519 -1.4930156  -0.33668146 -0.31267232]\n",
            " [-0.26846455 -0.14810074  0.17596946 -0.04534942]\n",
            " [-0.86505245  0.97266163 -1.36198331 -1.38196391]\n",
            " [-0.38778213 -0.59640569  0.57469796  1.02394217]\n",
            " [-0.86505245  0.74850916 -1.41894452 -1.38196391]\n",
            " [ 1.64061672 -0.37225322  1.37215495  0.75661927]\n",
            " [ 0.08948818 -0.14810074  0.51773675  0.75661927]\n",
            " [-1.46164035  0.30020421 -1.30502209 -1.38196391]\n",
            " [ 0.08948818 -1.94132055  0.63165917  0.35563493]\n",
            " [-0.26846455 -1.26886312  0.63165917  1.02394217]\n",
            " [ 0.5667585  -0.82055817  0.80254281  0.89028072]\n",
            " [ 0.20880576 -0.59640569  0.46077553 -0.04534942]\n",
            " [-1.46164035  0.30020421 -1.47590573 -1.38196391]\n",
            " [ 2.3565222   1.64511906  1.42911616  1.02394217]\n",
            " [-0.62641729  1.86927154 -1.47590573 -1.11464101]\n",
            " [ 1.1633464   0.07605173  0.68862039  1.42492652]\n",
            " [ 0.44744092  0.52435668  0.46077553  0.48929638]\n",
            " [-0.02982939 -0.14810074  0.68862039  0.75661927]\n",
            " [-0.02982939 -0.14810074  0.17596946  0.35563493]\n",
            " [ 0.20880576 -0.37225322  0.46077553  0.22197348]]\n"
          ]
        }
      ]
    },
    {
      "cell_type": "markdown",
      "source": [
        "**Part D** - Train Model using SKLearn LogisticRegression"
      ],
      "metadata": {
        "id": "E9BlQYh54lLX"
      }
    },
    {
      "cell_type": "code",
      "source": [
        "classifier =  LogisticRegression(solver = 'liblinear') \n",
        "classifier.fit(X_train, y_train)"
      ],
      "metadata": {
        "id": "hD_MUVu64xkw",
        "colab": {
          "base_uri": "https://localhost:8080/"
        },
        "outputId": "521799c4-a10e-4d98-a736-4f071fecdb25"
      },
      "execution_count": 24,
      "outputs": [
        {
          "output_type": "execute_result",
          "data": {
            "text/plain": [
              "LogisticRegression(solver='liblinear')"
            ]
          },
          "metadata": {},
          "execution_count": 24
        }
      ]
    },
    {
      "cell_type": "markdown",
      "source": [
        "**Part E** - Predict Labels for test split"
      ],
      "metadata": {
        "id": "-HKhBOzW4xSx"
      }
    },
    {
      "cell_type": "code",
      "source": [
        "y_pred = classifier.predict(X_test)\n",
        "print(y_pred)"
      ],
      "metadata": {
        "id": "IqpPKB1M5G4G",
        "colab": {
          "base_uri": "https://localhost:8080/"
        },
        "outputId": "67f89007-cc38-469b-d064-a9c9d6c17be5"
      },
      "execution_count": 25,
      "outputs": [
        {
          "output_type": "stream",
          "name": "stdout",
          "text": [
            "['lily' 'lily' 'hibiscus' 'hibiscus' 'daffodil' 'daffodil' 'hibiscus'\n",
            " 'hibiscus' 'lily' 'lily' 'hibiscus' 'daffodil' 'daffodil' 'lily'\n",
            " 'hibiscus' 'hibiscus' 'hibiscus' 'daffodil' 'hibiscus' 'hibiscus'\n",
            " 'hibiscus' 'lily' 'hibiscus' 'lily' 'hibiscus' 'lily' 'daffodil'\n",
            " 'daffodil' 'lily' 'hibiscus' 'hibiscus' 'daffodil' 'daffodil' 'lily'\n",
            " 'lily' 'hibiscus' 'daffodil' 'lily']\n"
          ]
        }
      ]
    },
    {
      "cell_type": "markdown",
      "source": [
        "---\n",
        "## Question 3\n",
        "\n",
        "Confusion Matrix Construction\n",
        "\n",
        "---"
      ],
      "metadata": {
        "id": "34It-TAowlCw"
      }
    },
    {
      "cell_type": "markdown",
      "source": [
        "**Part A** - Using the prediction result of logistic regression (Question 2) construct a confusion matrix using SKLearn confusion_matrix\n",
        "\n",
        "Print out this confusion matrix"
      ],
      "metadata": {
        "id": "vi_ix0XsxF8x"
      }
    },
    {
      "cell_type": "code",
      "source": [
        "#from sklearn.metrics import confusion_matrix\n",
        "conf_matrix = confusion_matrix(y_true=y_test, y_pred=y_pred)\n",
        "fig, ax = plt.subplots(figsize=(5, 5))\n",
        "ax.matshow(conf_matrix, cmap=plt.cm.Oranges, alpha=0.3)\n",
        "for i in range(conf_matrix.shape[0]):\n",
        "    for j in range(conf_matrix.shape[1]):\n",
        "        ax.text(x=j, y=i,s=conf_matrix[i, j], va='center', ha='center', size='xx-large')\n",
        " \n",
        "plt.xlabel('Predictions', fontsize=18)\n",
        "plt.ylabel('Actuals', fontsize=18)\n",
        "plt.title('Confusion Matrix', fontsize=18)\n",
        "plt.show()"
      ],
      "metadata": {
        "id": "o23T4fDsxD-L",
        "colab": {
          "base_uri": "https://localhost:8080/",
          "height": 358
        },
        "outputId": "56515bfa-a2ff-4226-aebb-f7e112f5a897"
      },
      "execution_count": 29,
      "outputs": [
        {
          "output_type": "display_data",
          "data": {
            "text/plain": [
              "<Figure size 360x360 with 1 Axes>"
            ],
            "image/png": "[encoded data removed]"
          },
          "metadata": {
            "needs_background": "light"
          }
        }
      ]
    },
    {
      "cell_type": "markdown",
      "source": [
        "**Part B** - Calculate and print Accuracy"
      ],
      "metadata": {
        "id": "JlYB9BY4xEh1"
      }
    },
    {
      "cell_type": "code",
      "source": [
        "acc = accuracy_score(y_test, y_pred)\n",
        "print(\"Accuracy:\",acc)"
      ],
      "metadata": {
        "id": "cupearHPxUKj",
        "colab": {
          "base_uri": "https://localhost:8080/"
        },
        "outputId": "3de5f12c-3f34-4701-9c42-851087c6562a"
      },
      "execution_count": 30,
      "outputs": [
        {
          "output_type": "stream",
          "name": "stdout",
          "text": [
            "Accuracy: 0.9736842105263158\n"
          ]
        }
      ]
    },
    {
      "cell_type": "markdown",
      "source": [
        "**Part C** - Calculate and print Recall"
      ],
      "metadata": {
        "id": "RvEXBB3CxUk-"
      }
    },
    {
      "cell_type": "code",
      "source": [
        "rec = recall_score(y_test, y_pred, average = 'micro')\n",
        "print(\"Recall:\",rec)"
      ],
      "metadata": {
        "id": "PyBufaj8xbKC",
        "colab": {
          "base_uri": "https://localhost:8080/"
        },
        "outputId": "891c83fd-92fc-4ae3-e4ad-119ed527749d"
      },
      "execution_count": 31,
      "outputs": [
        {
          "output_type": "stream",
          "name": "stdout",
          "text": [
            "Recall: 0.9736842105263158\n"
          ]
        }
      ]
    },
    {
      "cell_type": "markdown",
      "source": [
        "**Part D** - Calculate and print Precision"
      ],
      "metadata": {
        "id": "W6BgzGjMxbfu"
      }
    },
    {
      "cell_type": "code",
      "source": [
        "pre = precision_score(y_test, y_pred, average = 'micro')\n",
        "print(\"Precision:\",pre)"
      ],
      "metadata": {
        "id": "gHJg8C-1xg_6",
        "colab": {
          "base_uri": "https://localhost:8080/"
        },
        "outputId": "779e1a88-04d1-4b8a-9806-5f4c7e00c13e"
      },
      "execution_count": 32,
      "outputs": [
        {
          "output_type": "stream",
          "name": "stdout",
          "text": [
            "Precision: 0.9736842105263158\n"
          ]
        }
      ]
    },
    {
      "cell_type": "markdown",
      "source": [
        "**Part E** - Calculate and print $𝐹_1$ Score"
      ],
      "metadata": {
        "id": "6RPHz7hVxhbk"
      }
    },
    {
      "cell_type": "code",
      "source": [
        "f1=2*(pre*rec)/(pre+rec)\n",
        "print(\"F1 Score:\",f1)"
      ],
      "metadata": {
        "id": "NmwjCpMixmeJ",
        "colab": {
          "base_uri": "https://localhost:8080/"
        },
        "outputId": "203f8a3a-167a-4a5b-ea7d-2fafa8fc8d0d"
      },
      "execution_count": 33,
      "outputs": [
        {
          "output_type": "stream",
          "name": "stdout",
          "text": [
            "F1 Score: 0.9736842105263158\n"
          ]
        }
      ]
    }
  ],
  "metadata": {
    "celltoolbar": "Slideshow",
    "kernelspec": {
      "display_name": "Python 3",
      "language": "python",
      "name": "python3"
    },
    "language_info": {
      "codemirror_mode": {
        "name": "ipython",
        "version": 3
      },
      "file_extension": ".py",
      "mimetype": "text/x-python",
      "name": "python",
      "nbconvert_exporter": "python",
      "pygments_lexer": "ipython3",
      "version": "3.5.1"
    },
    "colab": {
      "provenance": [],
      "collapsed_sections": []
    }
  },
  "nbformat": 4,
  "nbformat_minor": 0
}